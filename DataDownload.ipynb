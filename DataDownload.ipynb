{
 "cells": [
  {
   "cell_type": "code",
   "execution_count": null,
   "metadata": {},
   "outputs": [],
   "source": [
    "import ee\n",
    "\n",
    "# Trigger the authentication flow.\n",
    "ee.Authenticate()\n",
    "\n",
    "# Initialize the library.\n",
    "ee.Initialize()"
   ]
  },
  {
   "cell_type": "code",
   "execution_count": null,
   "metadata": {},
   "outputs": [],
   "source": [
    "import ee\n",
    "import geemap \n",
    "import numpy as np \n",
    "import pandas as pd\n",
    "import matplotlib.pyplot as plt\n",
    "from ipyleaflet import *\n",
    "import subprocess\n",
    "import geemap.eefolium as geemap"
   ]
  },
  {
   "cell_type": "code",
   "execution_count": null,
   "metadata": {},
   "outputs": [],
   "source": [
    "import geemap.eefolium as geemap\n",
    "Map = geemap.Map()\n",
    "#Map.add_basemap('HYBRID')\n",
    "Map"
   ]
  },
  {
   "cell_type": "code",
   "execution_count": null,
   "metadata": {},
   "outputs": [],
   "source": [
    "metaData = pd.read_csv('/Users/isamarcortes/Downloads/metadata.csv')\n",
    "\n",
    "def getData(Data):\n",
    "    latitude = Data['latitude']\n",
    "    longitude = Data['longitude']\n",
    "    date = Data['date'].astype(str).values.tolist()\n",
    "    \n",
    "    return latitude,longitude,date\n",
    "\n",
    "latitude,longitude,date = getData(metaData)\n"
   ]
  },
  {
   "cell_type": "code",
   "execution_count": null,
   "metadata": {},
   "outputs": [],
   "source": [
    "\n",
    "#roi = ee.Geometry.point(latitude,longitude)\n",
    "L8_SR = ee.ImageCollection('LANDSAT/LC08/C02/T1_L2').filterDate(date[0], date[2])#.filterBounds(ee.Geometry.Point(latitude[1], longitude[1]))\n",
    "\n",
    "print(L8_SR)\n",
    "'''\n",
    "S2_SR = ee.ImageCollection('COPERNICUS/S2_SR_HARMONIZED')\n",
    "    .filterDate('2020-01-01', '2020-12-31')\n",
    "    .filterBounds(roi)\n",
    "'''"
   ]
  },
  {
   "cell_type": "code",
   "execution_count": null,
   "metadata": {},
   "outputs": [],
   "source": [
    "print(longitude[1])"
   ]
  },
  {
   "cell_type": "code",
   "execution_count": null,
   "metadata": {},
   "outputs": [],
   "source": [
    "#Map.setCenter(latitude[1], longitude[1], 13)\n",
    "\n",
    "#Map.setOptions('HYBRID')\n",
    "\n",
    "Map.addLayer(L8_SR,\n",
    "             {'bands': ['SR_B3', 'SR_B2', 'SR_B1']},\n",
    "             'bad composite')\n",
    "Map.setControlVisibility(layerControl=True, fullscreenControl=True, latLngPopup=True)\n",
    "Map"
   ]
  },
  {
   "cell_type": "code",
   "execution_count": null,
   "metadata": {},
   "outputs": [],
   "source": [
    "import folium\n",
    "Map = folium.Map()\n",
    "Map.setOptions()\n",
    "\n",
    "# Load an image.\n",
    "Map.setCenter(latitude[1], longitude[1], 10) # San Francisco Bay\n",
    "Map.addLayer(L8_SR,\n",
    "             {'bands': ['SR_B3', 'SR_B2', 'SR_B1']},\n",
    "             'bad composite')\n",
    "\n",
    "# Center the map and display the image.\n",
    "\n"
   ]
  },
  {
   "cell_type": "code",
   "execution_count": null,
   "metadata": {},
   "outputs": [],
   "source": []
  }
 ],
 "metadata": {
  "kernelspec": {
   "display_name": "Python 3",
   "language": "python",
   "name": "python3"
  },
  "language_info": {
   "codemirror_mode": {
    "name": "ipython",
    "version": 3
   },
   "file_extension": ".py",
   "mimetype": "text/x-python",
   "name": "python",
   "nbconvert_exporter": "python",
   "pygments_lexer": "ipython3",
   "version": "3.8.3"
  }
 },
 "nbformat": 4,
 "nbformat_minor": 4
}
